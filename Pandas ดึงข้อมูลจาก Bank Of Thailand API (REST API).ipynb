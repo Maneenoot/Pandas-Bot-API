{
 "cells": [
  {
   "cell_type": "markdown",
   "metadata": {},
   "source": [
    "Pandas ดึงข้อมูลจาก Bank Of Thailand API (REST API)"
   ]
  },
  {
   "cell_type": "markdown",
   "metadata": {},
   "source": [
    "Reference : # https://iapi.bot.or.th/Developer?lang=th \n",
    "            # https://www.youtube.com/watch?v=IQhJAr-hcFE\n",
    "            # https://medium.com/readmoreth/consume-bank-of-thailand-api-using-c-net-c7595f5efd22#:~:text=%E0%B8%81%E0%B8%B2%E0%B8%A3%E0%B8%AA%E0%B8%A1%E0%B8%B1%E0%B8%84%E0%B8%A3%E0%B9%83%E0%B8%8A%E0%B9%89%E0%B8%9A%E0%B8%A3%E0%B8%B4%E0%B8%81%E0%B8%B2%E0%B8%A3%20BOT%20API&text=3.%20%E0%B8%82%E0%B8%B1%E0%B9%89%E0%B8%99%E0%B8%95%E0%B8%AD%E0%B8%99%E0%B8%95%E0%B9%88%E0%B8%AD%E0%B9%84%E0%B8%9B,Client%20ID%20%E0%B9%80%E0%B8%81%E0%B9%87%E0%B8%9A%E0%B9%84%E0%B8%A7%E0%B9%89%E0%B8%81%E0%B9%88%E0%B8%AD%E0%B8%99"
   ]
  },
  {
   "cell_type": "code",
   "execution_count": 1,
   "metadata": {},
   "outputs": [],
   "source": [
    "import http.client"
   ]
  },
  {
   "cell_type": "code",
   "execution_count": 2,
   "metadata": {},
   "outputs": [],
   "source": [
    "conn = http.client.HTTPSConnection(\"apigw1.bot.or.th\")\n",
    "headers = {\n",
    "    'x-ibm-client-id': \"###############\",\n",
    "    'accept': \"application/json\"\n",
    "    }\n",
    "conn.request(\"GET\", \"/bot/public/Stat-ReferenceRate/v2/DAILY_REF_RATE/?start_period=2020-04-30&end_period=2020-05-30\", headers=headers)\n",
    "res = conn.getresponse()\n",
    "data = res.read()\n",
    "\n"
   ]
  },
  {
   "cell_type": "code",
   "execution_count": 3,
   "metadata": {},
   "outputs": [
    {
     "name": "stdout",
     "output_type": "stream",
     "text": [
      "{\"result\":{\"timestamp\":\"2020-06-16 23:38:43\",\"api\":\"Daily Weighted-average Interbank Exchange Rate - THB / USD\",\"data\":{\"data_header\":{\"report_name_eng\":\"Rates of Exchange of Commercial Banks in Bangkok Metropolis (2002-present)\",\"report_name_th\":\"อัตราแลกเปลี่ยนเฉลี่ยของธนาคารพาณิชย์ในกรุงเทพมหานคร (2545-ปัจจุบัน)\",\"report_uoq_name_eng\":\"(Unit: Baht / 1 Unit of Foreign Currency)\",\"report_uoq_name_th\":\"(หน่วย: บาท ต่อ 1 หน่วยเงินตราต่างประเทศ)\",\"report_source_of_data\":[{\"source_of_data_eng\":\"Bank of Thailand\",\"source_of_data_th\":\"ธนาคารแห่งประเทศไทย\"}],\"report_remark\":[],\"last_updated\":\"2020-06-16\"},\"data_detail\":[{\"period\":\"2020-05-29\",\"rate\":\"31.8320000\"},{\"period\":\"2020-05-28\",\"rate\":\"31.8710000\"},{\"period\":\"2020-05-27\",\"rate\":\"31.8730000\"},{\"period\":\"2020-05-26\",\"rate\":\"31.9220000\"},{\"period\":\"2020-05-25\",\"rate\":\"31.9740000\"},{\"period\":\"2020-05-22\",\"rate\":\"31.8690000\"},{\"period\":\"2020-05-21\",\"rate\":\"31.8470000\"},{\"period\":\"2020-05-20\",\"rate\":\"31.8780000\"},{\"period\":\"2020-05-19\",\"rate\":\"31.9200000\"},{\"period\":\"2020-05-18\",\"rate\":\"32.0460000\"},{\"period\":\"2020-05-15\",\"rate\":\"32.0820000\"},{\"period\":\"2020-05-14\",\"rate\":\"32.1060000\"},{\"period\":\"2020-05-13\",\"rate\":\"32.0820000\"},{\"period\":\"2020-05-12\",\"rate\":\"32.1430000\"},{\"period\":\"2020-05-11\",\"rate\":\"32.1500000\"},{\"period\":\"2020-05-08\",\"rate\":\"32.2800000\"},{\"period\":\"2020-05-07\",\"rate\":\"32.4470000\"},{\"period\":\"2020-05-05\",\"rate\":\"32.3810000\"},{\"period\":\"2020-04-30\",\"rate\":\"32.3620000\"}]}}}\n"
     ]
    }
   ],
   "source": [
    "#json or dict\n",
    "print(data.decode(\"utf-8\"))"
   ]
  },
  {
   "cell_type": "code",
   "execution_count": 4,
   "metadata": {},
   "outputs": [],
   "source": [
    "import pandas as pd\n",
    "%matplotlib inline"
   ]
  },
  {
   "cell_type": "code",
   "execution_count": 5,
   "metadata": {},
   "outputs": [
    {
     "name": "stdout",
     "output_type": "stream",
     "text": [
      "<class 'dict'>\n"
     ]
    },
    {
     "data": {
      "text/plain": [
       "{'result': {'timestamp': '2020-06-16 23:38:43',\n",
       "  'api': 'Daily Weighted-average Interbank Exchange Rate - THB / USD',\n",
       "  'data': {'data_header': {'report_name_eng': 'Rates of Exchange of Commercial Banks in Bangkok Metropolis (2002-present)',\n",
       "    'report_name_th': 'อัตราแลกเปลี่ยนเฉลี่ยของธนาคารพาณิชย์ในกรุงเทพมหานคร (2545-ปัจจุบัน)',\n",
       "    'report_uoq_name_eng': '(Unit: Baht / 1 Unit of Foreign Currency)',\n",
       "    'report_uoq_name_th': '(หน่วย: บาท ต่อ 1 หน่วยเงินตราต่างประเทศ)',\n",
       "    'report_source_of_data': [{'source_of_data_eng': 'Bank of Thailand',\n",
       "      'source_of_data_th': 'ธนาคารแห่งประเทศไทย'}],\n",
       "    'report_remark': [],\n",
       "    'last_updated': '2020-06-16'},\n",
       "   'data_detail': [{'period': '2020-05-29', 'rate': '31.8320000'},\n",
       "    {'period': '2020-05-28', 'rate': '31.8710000'},\n",
       "    {'period': '2020-05-27', 'rate': '31.8730000'},\n",
       "    {'period': '2020-05-26', 'rate': '31.9220000'},\n",
       "    {'period': '2020-05-25', 'rate': '31.9740000'},\n",
       "    {'period': '2020-05-22', 'rate': '31.8690000'},\n",
       "    {'period': '2020-05-21', 'rate': '31.8470000'},\n",
       "    {'period': '2020-05-20', 'rate': '31.8780000'},\n",
       "    {'period': '2020-05-19', 'rate': '31.9200000'},\n",
       "    {'period': '2020-05-18', 'rate': '32.0460000'},\n",
       "    {'period': '2020-05-15', 'rate': '32.0820000'},\n",
       "    {'period': '2020-05-14', 'rate': '32.1060000'},\n",
       "    {'period': '2020-05-13', 'rate': '32.0820000'},\n",
       "    {'period': '2020-05-12', 'rate': '32.1430000'},\n",
       "    {'period': '2020-05-11', 'rate': '32.1500000'},\n",
       "    {'period': '2020-05-08', 'rate': '32.2800000'},\n",
       "    {'period': '2020-05-07', 'rate': '32.4470000'},\n",
       "    {'period': '2020-05-05', 'rate': '32.3810000'},\n",
       "    {'period': '2020-04-30', 'rate': '32.3620000'}]}}}"
      ]
     },
     "execution_count": 5,
     "metadata": {},
     "output_type": "execute_result"
    }
   ],
   "source": [
    "# แปลง json ให้เป็น pandas datafreme\n",
    "j = pd.io.json.loads(data.decode(\"utf-8\"))\n",
    "print(type(j))\n",
    "j"
   ]
  },
  {
   "cell_type": "code",
   "execution_count": 6,
   "metadata": {},
   "outputs": [
    {
     "data": {
      "text/plain": [
       "[{'period': '2020-05-29', 'rate': '31.8320000'},\n",
       " {'period': '2020-05-28', 'rate': '31.8710000'},\n",
       " {'period': '2020-05-27', 'rate': '31.8730000'},\n",
       " {'period': '2020-05-26', 'rate': '31.9220000'},\n",
       " {'period': '2020-05-25', 'rate': '31.9740000'},\n",
       " {'period': '2020-05-22', 'rate': '31.8690000'},\n",
       " {'period': '2020-05-21', 'rate': '31.8470000'},\n",
       " {'period': '2020-05-20', 'rate': '31.8780000'},\n",
       " {'period': '2020-05-19', 'rate': '31.9200000'},\n",
       " {'period': '2020-05-18', 'rate': '32.0460000'},\n",
       " {'period': '2020-05-15', 'rate': '32.0820000'},\n",
       " {'period': '2020-05-14', 'rate': '32.1060000'},\n",
       " {'period': '2020-05-13', 'rate': '32.0820000'},\n",
       " {'period': '2020-05-12', 'rate': '32.1430000'},\n",
       " {'period': '2020-05-11', 'rate': '32.1500000'},\n",
       " {'period': '2020-05-08', 'rate': '32.2800000'},\n",
       " {'period': '2020-05-07', 'rate': '32.4470000'},\n",
       " {'period': '2020-05-05', 'rate': '32.3810000'},\n",
       " {'period': '2020-04-30', 'rate': '32.3620000'}]"
      ]
     },
     "execution_count": 6,
     "metadata": {},
     "output_type": "execute_result"
    }
   ],
   "source": [
    "#list ข้างในเป็น dict #เข้าถึงตัว dict ในแต่ละส่วน\n",
    "j['result']['data']['data_detail']"
   ]
  },
  {
   "cell_type": "code",
   "execution_count": 7,
   "metadata": {},
   "outputs": [],
   "source": [
    "# แปลง json ให้เป็น pandas datafreme\n",
    "df=pd.DataFrame(j['result']['data']['data_detail'])"
   ]
  },
  {
   "cell_type": "code",
   "execution_count": 8,
   "metadata": {},
   "outputs": [
    {
     "data": {
      "text/html": [
       "<div>\n",
       "<style scoped>\n",
       "    .dataframe tbody tr th:only-of-type {\n",
       "        vertical-align: middle;\n",
       "    }\n",
       "\n",
       "    .dataframe tbody tr th {\n",
       "        vertical-align: top;\n",
       "    }\n",
       "\n",
       "    .dataframe thead th {\n",
       "        text-align: right;\n",
       "    }\n",
       "</style>\n",
       "<table border=\"1\" class=\"dataframe\">\n",
       "  <thead>\n",
       "    <tr style=\"text-align: right;\">\n",
       "      <th></th>\n",
       "      <th>period</th>\n",
       "      <th>rate</th>\n",
       "    </tr>\n",
       "  </thead>\n",
       "  <tbody>\n",
       "    <tr>\n",
       "      <th>0</th>\n",
       "      <td>2020-05-29</td>\n",
       "      <td>31.8320000</td>\n",
       "    </tr>\n",
       "    <tr>\n",
       "      <th>1</th>\n",
       "      <td>2020-05-28</td>\n",
       "      <td>31.8710000</td>\n",
       "    </tr>\n",
       "    <tr>\n",
       "      <th>2</th>\n",
       "      <td>2020-05-27</td>\n",
       "      <td>31.8730000</td>\n",
       "    </tr>\n",
       "    <tr>\n",
       "      <th>3</th>\n",
       "      <td>2020-05-26</td>\n",
       "      <td>31.9220000</td>\n",
       "    </tr>\n",
       "    <tr>\n",
       "      <th>4</th>\n",
       "      <td>2020-05-25</td>\n",
       "      <td>31.9740000</td>\n",
       "    </tr>\n",
       "    <tr>\n",
       "      <th>5</th>\n",
       "      <td>2020-05-22</td>\n",
       "      <td>31.8690000</td>\n",
       "    </tr>\n",
       "    <tr>\n",
       "      <th>6</th>\n",
       "      <td>2020-05-21</td>\n",
       "      <td>31.8470000</td>\n",
       "    </tr>\n",
       "    <tr>\n",
       "      <th>7</th>\n",
       "      <td>2020-05-20</td>\n",
       "      <td>31.8780000</td>\n",
       "    </tr>\n",
       "    <tr>\n",
       "      <th>8</th>\n",
       "      <td>2020-05-19</td>\n",
       "      <td>31.9200000</td>\n",
       "    </tr>\n",
       "    <tr>\n",
       "      <th>9</th>\n",
       "      <td>2020-05-18</td>\n",
       "      <td>32.0460000</td>\n",
       "    </tr>\n",
       "    <tr>\n",
       "      <th>10</th>\n",
       "      <td>2020-05-15</td>\n",
       "      <td>32.0820000</td>\n",
       "    </tr>\n",
       "    <tr>\n",
       "      <th>11</th>\n",
       "      <td>2020-05-14</td>\n",
       "      <td>32.1060000</td>\n",
       "    </tr>\n",
       "    <tr>\n",
       "      <th>12</th>\n",
       "      <td>2020-05-13</td>\n",
       "      <td>32.0820000</td>\n",
       "    </tr>\n",
       "    <tr>\n",
       "      <th>13</th>\n",
       "      <td>2020-05-12</td>\n",
       "      <td>32.1430000</td>\n",
       "    </tr>\n",
       "    <tr>\n",
       "      <th>14</th>\n",
       "      <td>2020-05-11</td>\n",
       "      <td>32.1500000</td>\n",
       "    </tr>\n",
       "    <tr>\n",
       "      <th>15</th>\n",
       "      <td>2020-05-08</td>\n",
       "      <td>32.2800000</td>\n",
       "    </tr>\n",
       "    <tr>\n",
       "      <th>16</th>\n",
       "      <td>2020-05-07</td>\n",
       "      <td>32.4470000</td>\n",
       "    </tr>\n",
       "    <tr>\n",
       "      <th>17</th>\n",
       "      <td>2020-05-05</td>\n",
       "      <td>32.3810000</td>\n",
       "    </tr>\n",
       "    <tr>\n",
       "      <th>18</th>\n",
       "      <td>2020-04-30</td>\n",
       "      <td>32.3620000</td>\n",
       "    </tr>\n",
       "  </tbody>\n",
       "</table>\n",
       "</div>"
      ],
      "text/plain": [
       "        period        rate\n",
       "0   2020-05-29  31.8320000\n",
       "1   2020-05-28  31.8710000\n",
       "2   2020-05-27  31.8730000\n",
       "3   2020-05-26  31.9220000\n",
       "4   2020-05-25  31.9740000\n",
       "5   2020-05-22  31.8690000\n",
       "6   2020-05-21  31.8470000\n",
       "7   2020-05-20  31.8780000\n",
       "8   2020-05-19  31.9200000\n",
       "9   2020-05-18  32.0460000\n",
       "10  2020-05-15  32.0820000\n",
       "11  2020-05-14  32.1060000\n",
       "12  2020-05-13  32.0820000\n",
       "13  2020-05-12  32.1430000\n",
       "14  2020-05-11  32.1500000\n",
       "15  2020-05-08  32.2800000\n",
       "16  2020-05-07  32.4470000\n",
       "17  2020-05-05  32.3810000\n",
       "18  2020-04-30  32.3620000"
      ]
     },
     "execution_count": 8,
     "metadata": {},
     "output_type": "execute_result"
    }
   ],
   "source": [
    "df"
   ]
  },
  {
   "cell_type": "code",
   "execution_count": 9,
   "metadata": {},
   "outputs": [
    {
     "data": {
      "text/plain": [
       "period    object\n",
       "rate      object\n",
       "dtype: object"
      ]
     },
     "execution_count": 9,
     "metadata": {},
     "output_type": "execute_result"
    }
   ],
   "source": [
    "# เช็ค type\n",
    "df.dtypes"
   ]
  },
  {
   "cell_type": "code",
   "execution_count": 10,
   "metadata": {},
   "outputs": [
    {
     "data": {
      "text/plain": [
       "period    datetime64[ns]\n",
       "rate             float64\n",
       "dtype: object"
      ]
     },
     "execution_count": 10,
     "metadata": {},
     "output_type": "execute_result"
    }
   ],
   "source": [
    "#แปลง datatype\n",
    "df.period = pd.to_datetime(df.period)\n",
    "df.rate = pd.to_numeric(df.rate)\n",
    "df.dtypes"
   ]
  },
  {
   "cell_type": "code",
   "execution_count": 11,
   "metadata": {},
   "outputs": [],
   "source": [
    "#กำหนด period ให้เป็น index\n",
    "df.set_index('period', inplace=True)"
   ]
  },
  {
   "cell_type": "code",
   "execution_count": 12,
   "metadata": {},
   "outputs": [
    {
     "data": {
      "text/html": [
       "<div>\n",
       "<style scoped>\n",
       "    .dataframe tbody tr th:only-of-type {\n",
       "        vertical-align: middle;\n",
       "    }\n",
       "\n",
       "    .dataframe tbody tr th {\n",
       "        vertical-align: top;\n",
       "    }\n",
       "\n",
       "    .dataframe thead th {\n",
       "        text-align: right;\n",
       "    }\n",
       "</style>\n",
       "<table border=\"1\" class=\"dataframe\">\n",
       "  <thead>\n",
       "    <tr style=\"text-align: right;\">\n",
       "      <th></th>\n",
       "      <th>rate</th>\n",
       "    </tr>\n",
       "    <tr>\n",
       "      <th>period</th>\n",
       "      <th></th>\n",
       "    </tr>\n",
       "  </thead>\n",
       "  <tbody>\n",
       "    <tr>\n",
       "      <th>2020-05-29</th>\n",
       "      <td>31.832</td>\n",
       "    </tr>\n",
       "    <tr>\n",
       "      <th>2020-05-28</th>\n",
       "      <td>31.871</td>\n",
       "    </tr>\n",
       "    <tr>\n",
       "      <th>2020-05-27</th>\n",
       "      <td>31.873</td>\n",
       "    </tr>\n",
       "    <tr>\n",
       "      <th>2020-05-26</th>\n",
       "      <td>31.922</td>\n",
       "    </tr>\n",
       "    <tr>\n",
       "      <th>2020-05-25</th>\n",
       "      <td>31.974</td>\n",
       "    </tr>\n",
       "    <tr>\n",
       "      <th>2020-05-22</th>\n",
       "      <td>31.869</td>\n",
       "    </tr>\n",
       "    <tr>\n",
       "      <th>2020-05-21</th>\n",
       "      <td>31.847</td>\n",
       "    </tr>\n",
       "    <tr>\n",
       "      <th>2020-05-20</th>\n",
       "      <td>31.878</td>\n",
       "    </tr>\n",
       "    <tr>\n",
       "      <th>2020-05-19</th>\n",
       "      <td>31.920</td>\n",
       "    </tr>\n",
       "    <tr>\n",
       "      <th>2020-05-18</th>\n",
       "      <td>32.046</td>\n",
       "    </tr>\n",
       "    <tr>\n",
       "      <th>2020-05-15</th>\n",
       "      <td>32.082</td>\n",
       "    </tr>\n",
       "    <tr>\n",
       "      <th>2020-05-14</th>\n",
       "      <td>32.106</td>\n",
       "    </tr>\n",
       "    <tr>\n",
       "      <th>2020-05-13</th>\n",
       "      <td>32.082</td>\n",
       "    </tr>\n",
       "    <tr>\n",
       "      <th>2020-05-12</th>\n",
       "      <td>32.143</td>\n",
       "    </tr>\n",
       "    <tr>\n",
       "      <th>2020-05-11</th>\n",
       "      <td>32.150</td>\n",
       "    </tr>\n",
       "    <tr>\n",
       "      <th>2020-05-08</th>\n",
       "      <td>32.280</td>\n",
       "    </tr>\n",
       "    <tr>\n",
       "      <th>2020-05-07</th>\n",
       "      <td>32.447</td>\n",
       "    </tr>\n",
       "    <tr>\n",
       "      <th>2020-05-05</th>\n",
       "      <td>32.381</td>\n",
       "    </tr>\n",
       "    <tr>\n",
       "      <th>2020-04-30</th>\n",
       "      <td>32.362</td>\n",
       "    </tr>\n",
       "  </tbody>\n",
       "</table>\n",
       "</div>"
      ],
      "text/plain": [
       "              rate\n",
       "period            \n",
       "2020-05-29  31.832\n",
       "2020-05-28  31.871\n",
       "2020-05-27  31.873\n",
       "2020-05-26  31.922\n",
       "2020-05-25  31.974\n",
       "2020-05-22  31.869\n",
       "2020-05-21  31.847\n",
       "2020-05-20  31.878\n",
       "2020-05-19  31.920\n",
       "2020-05-18  32.046\n",
       "2020-05-15  32.082\n",
       "2020-05-14  32.106\n",
       "2020-05-13  32.082\n",
       "2020-05-12  32.143\n",
       "2020-05-11  32.150\n",
       "2020-05-08  32.280\n",
       "2020-05-07  32.447\n",
       "2020-05-05  32.381\n",
       "2020-04-30  32.362"
      ]
     },
     "execution_count": 12,
     "metadata": {},
     "output_type": "execute_result"
    }
   ],
   "source": [
    "df"
   ]
  },
  {
   "cell_type": "code",
   "execution_count": 13,
   "metadata": {},
   "outputs": [],
   "source": [
    "#เรียงลำดับ\n",
    "df = df.sort_index()"
   ]
  },
  {
   "cell_type": "code",
   "execution_count": 14,
   "metadata": {},
   "outputs": [
    {
     "data": {
      "text/html": [
       "<div>\n",
       "<style scoped>\n",
       "    .dataframe tbody tr th:only-of-type {\n",
       "        vertical-align: middle;\n",
       "    }\n",
       "\n",
       "    .dataframe tbody tr th {\n",
       "        vertical-align: top;\n",
       "    }\n",
       "\n",
       "    .dataframe thead th {\n",
       "        text-align: right;\n",
       "    }\n",
       "</style>\n",
       "<table border=\"1\" class=\"dataframe\">\n",
       "  <thead>\n",
       "    <tr style=\"text-align: right;\">\n",
       "      <th></th>\n",
       "      <th>rate</th>\n",
       "    </tr>\n",
       "    <tr>\n",
       "      <th>period</th>\n",
       "      <th></th>\n",
       "    </tr>\n",
       "  </thead>\n",
       "  <tbody>\n",
       "    <tr>\n",
       "      <th>2020-04-30</th>\n",
       "      <td>32.362</td>\n",
       "    </tr>\n",
       "    <tr>\n",
       "      <th>2020-05-05</th>\n",
       "      <td>32.381</td>\n",
       "    </tr>\n",
       "    <tr>\n",
       "      <th>2020-05-07</th>\n",
       "      <td>32.447</td>\n",
       "    </tr>\n",
       "    <tr>\n",
       "      <th>2020-05-08</th>\n",
       "      <td>32.280</td>\n",
       "    </tr>\n",
       "    <tr>\n",
       "      <th>2020-05-11</th>\n",
       "      <td>32.150</td>\n",
       "    </tr>\n",
       "    <tr>\n",
       "      <th>2020-05-12</th>\n",
       "      <td>32.143</td>\n",
       "    </tr>\n",
       "    <tr>\n",
       "      <th>2020-05-13</th>\n",
       "      <td>32.082</td>\n",
       "    </tr>\n",
       "    <tr>\n",
       "      <th>2020-05-14</th>\n",
       "      <td>32.106</td>\n",
       "    </tr>\n",
       "    <tr>\n",
       "      <th>2020-05-15</th>\n",
       "      <td>32.082</td>\n",
       "    </tr>\n",
       "    <tr>\n",
       "      <th>2020-05-18</th>\n",
       "      <td>32.046</td>\n",
       "    </tr>\n",
       "    <tr>\n",
       "      <th>2020-05-19</th>\n",
       "      <td>31.920</td>\n",
       "    </tr>\n",
       "    <tr>\n",
       "      <th>2020-05-20</th>\n",
       "      <td>31.878</td>\n",
       "    </tr>\n",
       "    <tr>\n",
       "      <th>2020-05-21</th>\n",
       "      <td>31.847</td>\n",
       "    </tr>\n",
       "    <tr>\n",
       "      <th>2020-05-22</th>\n",
       "      <td>31.869</td>\n",
       "    </tr>\n",
       "    <tr>\n",
       "      <th>2020-05-25</th>\n",
       "      <td>31.974</td>\n",
       "    </tr>\n",
       "    <tr>\n",
       "      <th>2020-05-26</th>\n",
       "      <td>31.922</td>\n",
       "    </tr>\n",
       "    <tr>\n",
       "      <th>2020-05-27</th>\n",
       "      <td>31.873</td>\n",
       "    </tr>\n",
       "    <tr>\n",
       "      <th>2020-05-28</th>\n",
       "      <td>31.871</td>\n",
       "    </tr>\n",
       "    <tr>\n",
       "      <th>2020-05-29</th>\n",
       "      <td>31.832</td>\n",
       "    </tr>\n",
       "  </tbody>\n",
       "</table>\n",
       "</div>"
      ],
      "text/plain": [
       "              rate\n",
       "period            \n",
       "2020-04-30  32.362\n",
       "2020-05-05  32.381\n",
       "2020-05-07  32.447\n",
       "2020-05-08  32.280\n",
       "2020-05-11  32.150\n",
       "2020-05-12  32.143\n",
       "2020-05-13  32.082\n",
       "2020-05-14  32.106\n",
       "2020-05-15  32.082\n",
       "2020-05-18  32.046\n",
       "2020-05-19  31.920\n",
       "2020-05-20  31.878\n",
       "2020-05-21  31.847\n",
       "2020-05-22  31.869\n",
       "2020-05-25  31.974\n",
       "2020-05-26  31.922\n",
       "2020-05-27  31.873\n",
       "2020-05-28  31.871\n",
       "2020-05-29  31.832"
      ]
     },
     "execution_count": 14,
     "metadata": {},
     "output_type": "execute_result"
    }
   ],
   "source": [
    "df"
   ]
  },
  {
   "cell_type": "code",
   "execution_count": 15,
   "metadata": {},
   "outputs": [
    {
     "data": {
      "text/plain": [
       "<matplotlib.axes._subplots.AxesSubplot at 0x205a872d9c8>"
      ]
     },
     "execution_count": 15,
     "metadata": {},
     "output_type": "execute_result"
    },
    {
     "data": {
      "image/png": "[encoded data removed]",
      "text/plain": [
       "<Figure size 432x288 with 1 Axes>"
      ]
     },
     "metadata": {
      "needs_background": "light"
     },
     "output_type": "display_data"
    }
   ],
   "source": [
    "df.plot()"
   ]
  }
 ],
 "metadata": {
  "kernelspec": {
   "display_name": "Python 3",
   "language": "python",
   "name": "python3"
  },
  "language_info": {
   "codemirror_mode": {
    "name": "ipython",
    "version": 3
   },
   "file_extension": ".py",
   "mimetype": "text/x-python",
   "name": "python",
   "nbconvert_exporter": "python",
   "pygments_lexer": "ipython3",
   "version": "3.7.4"
  }
 },
 "nbformat": 4,
 "nbformat_minor": 4
}
